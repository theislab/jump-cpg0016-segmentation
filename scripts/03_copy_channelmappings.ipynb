{
 "cells": [
  {
   "cell_type": "markdown",
   "metadata": {},
   "source": [
    "# Finalise source for transfer"
   ]
  },
  {
   "cell_type": "code",
   "execution_count": 7,
   "metadata": {},
   "outputs": [],
   "source": [
    "import os\n",
    "from pathlib import Path\n",
    "import zarr\n",
    "import dask.array as da\n",
    "from tqdm.notebook import tqdm\n",
    "from lamin_utils import logger\n",
    "\n",
    "import joblib\n",
    "from contextlib import contextmanager\n",
    "\n",
    "source_results_path = Path(\"/ictstr01/groups/ml01/projects/2023_ttreis_segment_JUMP/snakemake/final_source08/snakemake/results/aggregated\")\n"
   ]
  },
  {
   "cell_type": "markdown",
   "metadata": {},
   "source": [
    "## 1) Rename the cellpose folder"
   ]
  },
  {
   "cell_type": "code",
   "execution_count": 16,
   "metadata": {},
   "outputs": [
    {
     "name": "stdout",
     "output_type": "stream",
     "text": [
      "❗ cellpose folder needs to be renamed\n",
      "💡 'cellpose' renamed to 'cellpose_202404'\n"
     ]
    }
   ],
   "source": [
    "suspected_path = source_results_path / \"broad_compressed/cellpainting-gallery/cpg0016-jump/source_8/workspace/segmentation/cellpose\"\n",
    "\n",
    "if suspected_path.exists():\n",
    "    logger.warning(\"cellpose folder needs to be renamed\")\n",
    "    suspected_path.rename(suspected_path.parent / \"cellpose_202404\")\n",
    "    logger.info(\"'cellpose' renamed to 'cellpose_202404'\")"
   ]
  },
  {
   "cell_type": "markdown",
   "metadata": {},
   "source": [
    "## 2) Create model info"
   ]
  },
  {
   "cell_type": "code",
   "execution_count": 18,
   "metadata": {},
   "outputs": [
    {
     "name": "stdout",
     "output_type": "stream",
     "text": [
      "❗ model info folder does not exist\n",
      "💡 model info folder created\n"
     ]
    }
   ],
   "source": [
    "model_info_path = suspected_path.parent / \"cellpose_202404\" / \"model\"\n",
    "\n",
    "if not model_info_path.exists():\n",
    "    logger.warning(\"model info folder does not exist\")\n",
    "    model_info_path.mkdir(parents=True)\n",
    "    logger.info(\"model info folder created\")"
   ]
  },
  {
   "cell_type": "code",
   "execution_count": 22,
   "metadata": {},
   "outputs": [
    {
     "name": "stdout",
     "output_type": "stream",
     "text": [
      "❗ README.md already exists, overwriting\n"
     ]
    }
   ],
   "source": [
    "README_content = \"\"\"# Notes\n",
    "\n",
    "These files were created using a Cellpose-based snakemake pipeline. More\n",
    "information can be found here: https://github.com/theislab/jump-cpg0016-segmentation\n",
    "\n",
    "## Relevant software versions:\n",
    "- https://github.com/theislab/jump-cpg0016-segmentation@v0.1.0\n",
    "- cellpose=2.2.3=pyhd8ed1ab_0\n",
    "- sparcscore==1.0.0\n",
    "\n",
    "## Literature\n",
    "- \"Cellpose: a generalist algorithm for cellular segmentation\", Stringer et al.,\n",
    "  2021, https://www.nature.com/articles/s41592-020-01018-x\n",
    "- \"Three million images and morphological profiles of cells treated with\n",
    "  matched chemical and genetic perturbations\", Chandrasekaran et al., 2024, https://www.biorxiv.org/content/10.1101/2022.01.05.475090v3\n",
    "- \"SPARCS, a platform for genome-scale CRISPR screening for spatial cellular\n",
    "  phenotypes\", Schmacke et al., 2023, https://www.biorxiv.org/content/10.1101/2023.06.01.542416v1\n",
    "\"\"\"\n",
    "\n",
    "if (model_info_path / \"README.md\").exists():\n",
    "    logger.warning(\"README.md already exists, overwriting\")\n",
    "    os.remove(model_info_path / \"README.md\")\n",
    "\n",
    "with open(model_info_path / \"README.md\", \"w\") as f:\n",
    "    f.write(README_content)"
   ]
  },
  {
   "cell_type": "markdown",
   "metadata": {},
   "source": [
    "## 3) Create channel_mapping.json files"
   ]
  },
  {
   "cell_type": "code",
   "execution_count": 36,
   "metadata": {},
   "outputs": [],
   "source": [
    "data_path = suspected_path.parent / \"cellpose_202404\" / \"objects\"\n",
    "batch_paths = [f for f in data_path.glob(\"*\") if f.is_dir()]\n",
    "plate_paths = [f for batch_path in batch_paths for f in batch_path.glob(\"*\") if f.is_dir()]\n",
    "\n",
    "channel_mapping_contents = '{\"0\": \"NucleusMask\", \"1\": \"CellMask\", \"2\": \"DNA\", \"3\": \"AGP\", \"4\": \"ER\", \"5\": \"Mito\", \"6\": \"RNA\"}'\n",
    "\n",
    "for plate_path in plate_paths:\n",
    "\n",
    "    if (plate_path / \"channel_mapping.json\").exists():\n",
    "        logger.warning(\"channel_mapping.json already exists, overwriting\")\n",
    "        os.remove(model_info_path / \"channel_mapping.json\")\n",
    "\n",
    "    with open(plate_path / \"channel_mapping.json\", \"w\") as f:\n",
    "        f.write(channel_mapping_contents)\n"
   ]
  }
 ],
 "metadata": {
  "kernelspec": {
   "display_name": "Python 3",
   "language": "python",
   "name": "python3"
  },
  "language_info": {
   "codemirror_mode": {
    "name": "ipython",
    "version": 3
   },
   "file_extension": ".py",
   "mimetype": "text/x-python",
   "name": "python",
   "nbconvert_exporter": "python",
   "pygments_lexer": "ipython3",
   "version": "3.11.9"
  }
 },
 "nbformat": 4,
 "nbformat_minor": 2
}
