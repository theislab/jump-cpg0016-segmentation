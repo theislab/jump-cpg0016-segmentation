{
 "cells": [
  {
   "cell_type": "code",
   "execution_count": 7,
   "metadata": {},
   "outputs": [],
   "source": [
    "import os\n",
    "from pathlib import Path\n",
    "import zarr\n",
    "import dask.array as da\n",
    "from tqdm.notebook import tqdm\n",
    "\n",
    "import joblib\n",
    "from contextlib import contextmanager\n",
    "\n",
    "source = \"source\"\n",
    "source_num = \"08\"\n",
    "cluster_dir = Path(\"/ictstr01/groups/ml01/projects/2023_ttreis_segment_JUMP/snakemake/\")\n",
    "directory_to_rechunk = cluster_dir / Path(f\"final_{source}{source_num}/snakemake/results/aggregated/broad/cellpainting-gallery/cpg0016-jump/source_{int(source_num)}/workspace/segmentation/cellpose/objects\")\n",
    "target_dir = cluster_dir / Path(f\"final_{source}{source_num}/snakemake/results/aggregated/broad_compressed/cellpainting-gallery/cpg0016-jump/source_{int(source_num)}/workspace/segmentation/cellpose/objects\")\n",
    "os.makedirs(target_dir, exist_ok=True)"
   ]
  },
  {
   "cell_type": "code",
   "execution_count": 2,
   "metadata": {},
   "outputs": [
    {
     "data": {
      "text/plain": [
       "PosixPath('/ictstr01/groups/ml01/projects/2023_ttreis_segment_JUMP/snakemake/final_source08/snakemake/results/aggregated/broad/cellpainting-gallery/cpg0016-jump/source_8/workspace/segmentation/cellpose/objects')"
      ]
     },
     "execution_count": 2,
     "metadata": {},
     "output_type": "execute_result"
    }
   ],
   "source": [
    "directory_to_rechunk"
   ]
  },
  {
   "cell_type": "code",
   "execution_count": 4,
   "metadata": {},
   "outputs": [
    {
     "data": {
      "text/plain": [
       "[PosixPath('/ictstr01/groups/ml01/projects/2023_ttreis_segment_JUMP/snakemake/final_source08/snakemake/results/aggregated/broad/cellpainting-gallery/cpg0016-jump/source_8/workspace/segmentation/cellpose/objects/J3'),\n",
       " PosixPath('/ictstr01/groups/ml01/projects/2023_ttreis_segment_JUMP/snakemake/final_source08/snakemake/results/aggregated/broad/cellpainting-gallery/cpg0016-jump/source_8/workspace/segmentation/cellpose/objects/J4'),\n",
       " PosixPath('/ictstr01/groups/ml01/projects/2023_ttreis_segment_JUMP/snakemake/final_source08/snakemake/results/aggregated/broad/cellpainting-gallery/cpg0016-jump/source_8/workspace/segmentation/cellpose/objects/J1'),\n",
       " PosixPath('/ictstr01/groups/ml01/projects/2023_ttreis_segment_JUMP/snakemake/final_source08/snakemake/results/aggregated/broad/cellpainting-gallery/cpg0016-jump/source_8/workspace/segmentation/cellpose/objects/J2')]"
      ]
     },
     "execution_count": 4,
     "metadata": {},
     "output_type": "execute_result"
    }
   ],
   "source": [
    "batch_folders = [f for f in directory_to_rechunk.glob(\"*\") if f.is_dir()]\n",
    "batch_folders"
   ]
  },
  {
   "cell_type": "code",
   "execution_count": 5,
   "metadata": {},
   "outputs": [
    {
     "data": {
      "text/plain": [
       "[PosixPath('/ictstr01/groups/ml01/projects/2023_ttreis_segment_JUMP/snakemake/final_source08/snakemake/results/aggregated/broad/cellpainting-gallery/cpg0016-jump/source_8/workspace/segmentation/cellpose/objects/J3/A1170525/A1170525.zarr'),\n",
       " PosixPath('/ictstr01/groups/ml01/projects/2023_ttreis_segment_JUMP/snakemake/final_source08/snakemake/results/aggregated/broad/cellpainting-gallery/cpg0016-jump/source_8/workspace/segmentation/cellpose/objects/J3/A1170540/A1170540.zarr'),\n",
       " PosixPath('/ictstr01/groups/ml01/projects/2023_ttreis_segment_JUMP/snakemake/final_source08/snakemake/results/aggregated/broad/cellpainting-gallery/cpg0016-jump/source_8/workspace/segmentation/cellpose/objects/J3/A1170494/A1170494.zarr')]"
      ]
     },
     "execution_count": 5,
     "metadata": {},
     "output_type": "execute_result"
    }
   ],
   "source": [
    "plate_paths = []\n",
    "plate_names = []\n",
    "\n",
    "for batch_folder in batch_folders:\n",
    "    batch_name = Path(batch_folder.parts[-1])\n",
    "    batch_folder_contents = [f for f in batch_folder.glob(\"*\") if f.is_dir()]\n",
    "    plate_names.append([batch_name / Path(f.parts[-1]) for f in batch_folder_contents])\n",
    "\n",
    "plate_names = [item for sublist in plate_names for item in sublist]\n",
    "\n",
    "for plate in plate_names:\n",
    "    plate_id = plate.parts[-1]\n",
    "    plate_paths.append(directory_to_rechunk / plate / f\"{plate_id}.zarr\")\n",
    "\n",
    "plate_paths[:3]"
   ]
  },
  {
   "cell_type": "markdown",
   "metadata": {},
   "source": [
    "### Proof of concept for reduction of number of chunks"
   ]
  },
  {
   "cell_type": "code",
   "execution_count": 8,
   "metadata": {},
   "outputs": [
    {
     "name": "stdout",
     "output_type": "stream",
     "text": [
      "Processing store: /ictstr01/groups/ml01/projects/2023_ttreis_segment_JUMP/snakemake/final_source08/snakemake/results/aggregated/broad/cellpainting-gallery/cpg0016-jump/source_8/workspace/segmentation/cellpose/objects/J3/A1170525/A1170525.zarr -> /ictstr01/groups/ml01/projects/2023_ttreis_segment_JUMP/snakemake/final_source08/snakemake/results/aggregated/broad_aggregated/cellpainting-gallery/cpg0016-jump/source_8/workspace/segmentation/cellpose/objects/J3/A1170525/A1170525.zarr\n"
     ]
    },
    {
     "name": "stderr",
     "output_type": "stream",
     "text": [
      "Processing groups in A1170525.zarr:   1%|          | 28/3456 [00:14<30:11, ETA: 2025-03-05 11:59:40.348326]\n"
     ]
    },
    {
     "ename": "KeyboardInterrupt",
     "evalue": "",
     "output_type": "error",
     "traceback": [
      "\u001b[31m---------------------------------------------------------------------------\u001b[39m",
      "\u001b[31mKeyboardInterrupt\u001b[39m                         Traceback (most recent call last)",
      "\u001b[36mCell\u001b[39m\u001b[36m \u001b[39m\u001b[32mIn[8]\u001b[39m\u001b[32m, line 35\u001b[39m\n\u001b[32m     33\u001b[39m     dst_ds_path = dst_group_path / sub\n\u001b[32m     34\u001b[39m     os.makedirs(dst_ds_path, exist_ok=\u001b[38;5;28;01mTrue\u001b[39;00m)\n\u001b[32m---> \u001b[39m\u001b[32m35\u001b[39m     \u001b[43mdarray_single\u001b[49m\u001b[43m.\u001b[49m\u001b[43mto_zarr\u001b[49m\u001b[43m(\u001b[49m\u001b[38;5;28;43mstr\u001b[39;49m\u001b[43m(\u001b[49m\u001b[43mdst_ds_path\u001b[49m\u001b[43m)\u001b[49m\u001b[43m,\u001b[49m\u001b[43m \u001b[49m\u001b[43mmode\u001b[49m\u001b[43m=\u001b[49m\u001b[33;43m'\u001b[39;49m\u001b[33;43mw\u001b[39;49m\u001b[33;43m'\u001b[39;49m\u001b[43m,\u001b[49m\u001b[43m \u001b[49m\u001b[43moverwrite\u001b[49m\u001b[43m=\u001b[49m\u001b[38;5;28;43;01mTrue\u001b[39;49;00m\u001b[43m)\u001b[49m\n\u001b[32m     36\u001b[39m \u001b[38;5;28;01melse\u001b[39;00m:\n\u001b[32m     37\u001b[39m     \u001b[38;5;28mprint\u001b[39m(\u001b[33mf\u001b[39m\u001b[33m\"\u001b[39m\u001b[33m    Subgroup \u001b[39m\u001b[38;5;132;01m{\u001b[39;00msub\u001b[38;5;132;01m}\u001b[39;00m\u001b[33m not found in group \u001b[39m\u001b[38;5;132;01m{\u001b[39;00mgroup_name\u001b[38;5;132;01m}\u001b[39;00m\u001b[33m\"\u001b[39m)\n",
      "\u001b[36mFile \u001b[39m\u001b[32m~/miniconda/envs/aws/lib/python3.11/site-packages/dask/array/core.py:3036\u001b[39m, in \u001b[36mArray.to_zarr\u001b[39m\u001b[34m(self, *args, **kwargs)\u001b[39m\n\u001b[32m   3025\u001b[39m \u001b[38;5;28;01mdef\u001b[39;00m\u001b[38;5;250m \u001b[39m\u001b[34mto_zarr\u001b[39m(\u001b[38;5;28mself\u001b[39m, *args, **kwargs):\n\u001b[32m   3026\u001b[39m \u001b[38;5;250m    \u001b[39m\u001b[33;03m\"\"\"Save array to the zarr storage format\u001b[39;00m\n\u001b[32m   3027\u001b[39m \n\u001b[32m   3028\u001b[39m \u001b[33;03m    See https://zarr.readthedocs.io for details about the format.\u001b[39;00m\n\u001b[32m   (...)\u001b[39m\u001b[32m   3034\u001b[39m \u001b[33;03m    dask.array.to_zarr : equivalent function\u001b[39;00m\n\u001b[32m   3035\u001b[39m \u001b[33;03m    \"\"\"\u001b[39;00m\n\u001b[32m-> \u001b[39m\u001b[32m3036\u001b[39m     \u001b[38;5;28;01mreturn\u001b[39;00m \u001b[43mto_zarr\u001b[49m\u001b[43m(\u001b[49m\u001b[38;5;28;43mself\u001b[39;49m\u001b[43m,\u001b[49m\u001b[43m \u001b[49m\u001b[43m*\u001b[49m\u001b[43margs\u001b[49m\u001b[43m,\u001b[49m\u001b[43m \u001b[49m\u001b[43m*\u001b[49m\u001b[43m*\u001b[49m\u001b[43mkwargs\u001b[49m\u001b[43m)\u001b[49m\n",
      "\u001b[36mFile \u001b[39m\u001b[32m~/miniconda/envs/aws/lib/python3.11/site-packages/dask/array/core.py:3957\u001b[39m, in \u001b[36mto_zarr\u001b[39m\u001b[34m(arr, url, component, storage_options, overwrite, region, compute, return_stored, **kwargs)\u001b[39m\n\u001b[32m   3946\u001b[39m chunks = [c[\u001b[32m0\u001b[39m] \u001b[38;5;28;01mfor\u001b[39;00m c \u001b[38;5;129;01min\u001b[39;00m arr.chunks]\n\u001b[32m   3948\u001b[39m z = zarr.create(\n\u001b[32m   3949\u001b[39m     shape=arr.shape,\n\u001b[32m   3950\u001b[39m     chunks=chunks,\n\u001b[32m   (...)\u001b[39m\u001b[32m   3955\u001b[39m     **kwargs,\n\u001b[32m   3956\u001b[39m )\n\u001b[32m-> \u001b[39m\u001b[32m3957\u001b[39m \u001b[38;5;28;01mreturn\u001b[39;00m \u001b[43marr\u001b[49m\u001b[43m.\u001b[49m\u001b[43mstore\u001b[49m\u001b[43m(\u001b[49m\u001b[43mz\u001b[49m\u001b[43m,\u001b[49m\u001b[43m \u001b[49m\u001b[43mlock\u001b[49m\u001b[43m=\u001b[49m\u001b[38;5;28;43;01mFalse\u001b[39;49;00m\u001b[43m,\u001b[49m\u001b[43m \u001b[49m\u001b[43mcompute\u001b[49m\u001b[43m=\u001b[49m\u001b[43mcompute\u001b[49m\u001b[43m,\u001b[49m\u001b[43m \u001b[49m\u001b[43mreturn_stored\u001b[49m\u001b[43m=\u001b[49m\u001b[43mreturn_stored\u001b[49m\u001b[43m)\u001b[49m\n",
      "\u001b[36mFile \u001b[39m\u001b[32m~/miniconda/envs/aws/lib/python3.11/site-packages/dask/array/core.py:1814\u001b[39m, in \u001b[36mArray.store\u001b[39m\u001b[34m(self, target, **kwargs)\u001b[39m\n\u001b[32m   1812\u001b[39m \u001b[38;5;129m@wraps\u001b[39m(store)\n\u001b[32m   1813\u001b[39m \u001b[38;5;28;01mdef\u001b[39;00m\u001b[38;5;250m \u001b[39m\u001b[34mstore\u001b[39m(\u001b[38;5;28mself\u001b[39m, target, **kwargs):\n\u001b[32m-> \u001b[39m\u001b[32m1814\u001b[39m     r = \u001b[43mstore\u001b[49m\u001b[43m(\u001b[49m\u001b[43m[\u001b[49m\u001b[38;5;28;43mself\u001b[39;49m\u001b[43m]\u001b[49m\u001b[43m,\u001b[49m\u001b[43m \u001b[49m\u001b[43m[\u001b[49m\u001b[43mtarget\u001b[49m\u001b[43m]\u001b[49m\u001b[43m,\u001b[49m\u001b[43m \u001b[49m\u001b[43m*\u001b[49m\u001b[43m*\u001b[49m\u001b[43mkwargs\u001b[49m\u001b[43m)\u001b[49m\n\u001b[32m   1816\u001b[39m     \u001b[38;5;28;01mif\u001b[39;00m kwargs.get(\u001b[33m\"\u001b[39m\u001b[33mreturn_stored\u001b[39m\u001b[33m\"\u001b[39m, \u001b[38;5;28;01mFalse\u001b[39;00m):\n\u001b[32m   1817\u001b[39m         r = r[\u001b[32m0\u001b[39m]\n",
      "\u001b[36mFile \u001b[39m\u001b[32m~/miniconda/envs/aws/lib/python3.11/site-packages/dask/array/core.py:1257\u001b[39m, in \u001b[36mstore\u001b[39m\u001b[34m(***failed resolving arguments***)\u001b[39m\n\u001b[32m   1255\u001b[39m \u001b[38;5;28;01melif\u001b[39;00m compute:\n\u001b[32m   1256\u001b[39m     store_dsk = HighLevelGraph(layers, dependencies)\n\u001b[32m-> \u001b[39m\u001b[32m1257\u001b[39m     \u001b[43mcompute_as_if_collection\u001b[49m\u001b[43m(\u001b[49m\u001b[43mArray\u001b[49m\u001b[43m,\u001b[49m\u001b[43m \u001b[49m\u001b[43mstore_dsk\u001b[49m\u001b[43m,\u001b[49m\u001b[43m \u001b[49m\u001b[43mmap_keys\u001b[49m\u001b[43m,\u001b[49m\u001b[43m \u001b[49m\u001b[43m*\u001b[49m\u001b[43m*\u001b[49m\u001b[43mkwargs\u001b[49m\u001b[43m)\u001b[49m\n\u001b[32m   1258\u001b[39m     \u001b[38;5;28;01mreturn\u001b[39;00m \u001b[38;5;28;01mNone\u001b[39;00m\n\u001b[32m   1260\u001b[39m \u001b[38;5;28;01melse\u001b[39;00m:\n",
      "\u001b[36mFile \u001b[39m\u001b[32m~/miniconda/envs/aws/lib/python3.11/site-packages/dask/base.py:399\u001b[39m, in \u001b[36mcompute_as_if_collection\u001b[39m\u001b[34m(cls, dsk, keys, scheduler, get, **kwargs)\u001b[39m\n\u001b[32m    397\u001b[39m schedule = get_scheduler(scheduler=scheduler, \u001b[38;5;28mcls\u001b[39m=\u001b[38;5;28mcls\u001b[39m, get=get)\n\u001b[32m    398\u001b[39m dsk2 = optimization_function(\u001b[38;5;28mcls\u001b[39m)(dsk, keys, **kwargs)\n\u001b[32m--> \u001b[39m\u001b[32m399\u001b[39m \u001b[38;5;28;01mreturn\u001b[39;00m \u001b[43mschedule\u001b[49m\u001b[43m(\u001b[49m\u001b[43mdsk2\u001b[49m\u001b[43m,\u001b[49m\u001b[43m \u001b[49m\u001b[43mkeys\u001b[49m\u001b[43m,\u001b[49m\u001b[43m \u001b[49m\u001b[43m*\u001b[49m\u001b[43m*\u001b[49m\u001b[43mkwargs\u001b[49m\u001b[43m)\u001b[49m\n",
      "\u001b[36mFile \u001b[39m\u001b[32m~/miniconda/envs/aws/lib/python3.11/site-packages/dask/threaded.py:91\u001b[39m, in \u001b[36mget\u001b[39m\u001b[34m(dsk, keys, cache, num_workers, pool, **kwargs)\u001b[39m\n\u001b[32m     88\u001b[39m     \u001b[38;5;28;01melif\u001b[39;00m \u001b[38;5;28misinstance\u001b[39m(pool, multiprocessing.pool.Pool):\n\u001b[32m     89\u001b[39m         pool = MultiprocessingPoolExecutor(pool)\n\u001b[32m---> \u001b[39m\u001b[32m91\u001b[39m results = \u001b[43mget_async\u001b[49m\u001b[43m(\u001b[49m\n\u001b[32m     92\u001b[39m \u001b[43m    \u001b[49m\u001b[43mpool\u001b[49m\u001b[43m.\u001b[49m\u001b[43msubmit\u001b[49m\u001b[43m,\u001b[49m\n\u001b[32m     93\u001b[39m \u001b[43m    \u001b[49m\u001b[43mpool\u001b[49m\u001b[43m.\u001b[49m\u001b[43m_max_workers\u001b[49m\u001b[43m,\u001b[49m\n\u001b[32m     94\u001b[39m \u001b[43m    \u001b[49m\u001b[43mdsk\u001b[49m\u001b[43m,\u001b[49m\n\u001b[32m     95\u001b[39m \u001b[43m    \u001b[49m\u001b[43mkeys\u001b[49m\u001b[43m,\u001b[49m\n\u001b[32m     96\u001b[39m \u001b[43m    \u001b[49m\u001b[43mcache\u001b[49m\u001b[43m=\u001b[49m\u001b[43mcache\u001b[49m\u001b[43m,\u001b[49m\n\u001b[32m     97\u001b[39m \u001b[43m    \u001b[49m\u001b[43mget_id\u001b[49m\u001b[43m=\u001b[49m\u001b[43m_thread_get_id\u001b[49m\u001b[43m,\u001b[49m\n\u001b[32m     98\u001b[39m \u001b[43m    \u001b[49m\u001b[43mpack_exception\u001b[49m\u001b[43m=\u001b[49m\u001b[43mpack_exception\u001b[49m\u001b[43m,\u001b[49m\n\u001b[32m     99\u001b[39m \u001b[43m    \u001b[49m\u001b[43m*\u001b[49m\u001b[43m*\u001b[49m\u001b[43mkwargs\u001b[49m\u001b[43m,\u001b[49m\n\u001b[32m    100\u001b[39m \u001b[43m\u001b[49m\u001b[43m)\u001b[49m\n\u001b[32m    102\u001b[39m \u001b[38;5;66;03m# Cleanup pools associated to dead threads\u001b[39;00m\n\u001b[32m    103\u001b[39m \u001b[38;5;28;01mwith\u001b[39;00m pools_lock:\n",
      "\u001b[36mFile \u001b[39m\u001b[32m~/miniconda/envs/aws/lib/python3.11/site-packages/dask/local.py:505\u001b[39m, in \u001b[36mget_async\u001b[39m\u001b[34m(submit, num_workers, dsk, result, cache, get_id, rerun_exceptions_locally, pack_exception, raise_exception, callbacks, dumps, loads, chunksize, **kwargs)\u001b[39m\n\u001b[32m    503\u001b[39m \u001b[38;5;28;01mwhile\u001b[39;00m state[\u001b[33m\"\u001b[39m\u001b[33mwaiting\u001b[39m\u001b[33m\"\u001b[39m] \u001b[38;5;129;01mor\u001b[39;00m state[\u001b[33m\"\u001b[39m\u001b[33mready\u001b[39m\u001b[33m\"\u001b[39m] \u001b[38;5;129;01mor\u001b[39;00m state[\u001b[33m\"\u001b[39m\u001b[33mrunning\u001b[39m\u001b[33m\"\u001b[39m]:\n\u001b[32m    504\u001b[39m     fire_tasks(chunksize)\n\u001b[32m--> \u001b[39m\u001b[32m505\u001b[39m     \u001b[38;5;28;01mfor\u001b[39;00m key, res_info, failed \u001b[38;5;129;01min\u001b[39;00m \u001b[43mqueue_get\u001b[49m\u001b[43m(\u001b[49m\u001b[43mqueue\u001b[49m\u001b[43m)\u001b[49m.result():\n\u001b[32m    506\u001b[39m         \u001b[38;5;28;01mif\u001b[39;00m failed:\n\u001b[32m    507\u001b[39m             exc, tb = loads(res_info)\n",
      "\u001b[36mFile \u001b[39m\u001b[32m~/miniconda/envs/aws/lib/python3.11/site-packages/dask/local.py:140\u001b[39m, in \u001b[36mqueue_get\u001b[39m\u001b[34m(q)\u001b[39m\n\u001b[32m    139\u001b[39m \u001b[38;5;28;01mdef\u001b[39;00m\u001b[38;5;250m \u001b[39m\u001b[34mqueue_get\u001b[39m(q):\n\u001b[32m--> \u001b[39m\u001b[32m140\u001b[39m     \u001b[38;5;28;01mreturn\u001b[39;00m \u001b[43mq\u001b[49m\u001b[43m.\u001b[49m\u001b[43mget\u001b[49m\u001b[43m(\u001b[49m\u001b[43m)\u001b[49m\n",
      "\u001b[36mFile \u001b[39m\u001b[32m~/miniconda/envs/aws/lib/python3.11/queue.py:171\u001b[39m, in \u001b[36mQueue.get\u001b[39m\u001b[34m(self, block, timeout)\u001b[39m\n\u001b[32m    169\u001b[39m \u001b[38;5;28;01melif\u001b[39;00m timeout \u001b[38;5;129;01mis\u001b[39;00m \u001b[38;5;28;01mNone\u001b[39;00m:\n\u001b[32m    170\u001b[39m     \u001b[38;5;28;01mwhile\u001b[39;00m \u001b[38;5;129;01mnot\u001b[39;00m \u001b[38;5;28mself\u001b[39m._qsize():\n\u001b[32m--> \u001b[39m\u001b[32m171\u001b[39m         \u001b[38;5;28;43mself\u001b[39;49m\u001b[43m.\u001b[49m\u001b[43mnot_empty\u001b[49m\u001b[43m.\u001b[49m\u001b[43mwait\u001b[49m\u001b[43m(\u001b[49m\u001b[43m)\u001b[49m\n\u001b[32m    172\u001b[39m \u001b[38;5;28;01melif\u001b[39;00m timeout < \u001b[32m0\u001b[39m:\n\u001b[32m    173\u001b[39m     \u001b[38;5;28;01mraise\u001b[39;00m \u001b[38;5;167;01mValueError\u001b[39;00m(\u001b[33m\"\u001b[39m\u001b[33m'\u001b[39m\u001b[33mtimeout\u001b[39m\u001b[33m'\u001b[39m\u001b[33m must be a non-negative number\u001b[39m\u001b[33m\"\u001b[39m)\n",
      "\u001b[36mFile \u001b[39m\u001b[32m~/miniconda/envs/aws/lib/python3.11/threading.py:327\u001b[39m, in \u001b[36mCondition.wait\u001b[39m\u001b[34m(self, timeout)\u001b[39m\n\u001b[32m    325\u001b[39m \u001b[38;5;28;01mtry\u001b[39;00m:    \u001b[38;5;66;03m# restore state no matter what (e.g., KeyboardInterrupt)\u001b[39;00m\n\u001b[32m    326\u001b[39m     \u001b[38;5;28;01mif\u001b[39;00m timeout \u001b[38;5;129;01mis\u001b[39;00m \u001b[38;5;28;01mNone\u001b[39;00m:\n\u001b[32m--> \u001b[39m\u001b[32m327\u001b[39m         \u001b[43mwaiter\u001b[49m\u001b[43m.\u001b[49m\u001b[43macquire\u001b[49m\u001b[43m(\u001b[49m\u001b[43m)\u001b[49m\n\u001b[32m    328\u001b[39m         gotit = \u001b[38;5;28;01mTrue\u001b[39;00m\n\u001b[32m    329\u001b[39m     \u001b[38;5;28;01melse\u001b[39;00m:\n",
      "\u001b[31mKeyboardInterrupt\u001b[39m: "
     ]
    }
   ],
   "source": [
    "# List of original zarr store paths\n",
    "stores = [\n",
    "    Path('/ictstr01/groups/ml01/projects/2023_ttreis_segment_JUMP/snakemake/final_source08/snakemake/results/aggregated/broad/cellpainting-gallery/cpg0016-jump/source_8/workspace/segmentation/cellpose/objects/J3/A1170525/A1170525.zarr'),\n",
    "    Path('/ictstr01/groups/ml01/projects/2023_ttreis_segment_JUMP/snakemake/final_source08/snakemake/results/aggregated/broad/cellpainting-gallery/cpg0016-jump/source_8/workspace/segmentation/cellpose/objects/J3/A1170540/A1170540.zarr'),\n",
    "    Path('/ictstr01/groups/ml01/projects/2023_ttreis_segment_JUMP/snakemake/final_source08/snakemake/results/aggregated/broad/cellpainting-gallery/cpg0016-jump/source_8/workspace/segmentation/cellpose/objects/J3/A1170494/A1170494.zarr')\n",
    "]\n",
    "\n",
    "# List of subgroup names to rechunk\n",
    "subgroups = ['label_image', 'single_cell_data', 'single_cell_index']\n",
    "\n",
    "for store_path in stores:\n",
    "    new_store_path = Path(str(store_path).replace('/broad/', '/broad_aggregated/'))\n",
    "    print(f\"Processing store: {store_path} -> {new_store_path}\")\n",
    "\n",
    "    src = zarr.open(store_path, mode='r')\n",
    "\n",
    "    groups = list(src.group_keys())\n",
    "    for group_name in tqdm(\n",
    "        groups,\n",
    "        desc=f\"Processing groups in {store_path.name}\",\n",
    "        total=len(groups),\n",
    "        bar_format='{l_bar}{bar}| {n_fmt}/{total_fmt} [{elapsed}<{remaining}, ETA: {eta}]'\n",
    "    ):        \n",
    "        \n",
    "        src_group = src[group_name]\n",
    "        dst_group_path = new_store_path / group_name\n",
    "\n",
    "        for sub in subgroups:\n",
    "            if sub in src_group:\n",
    "                src_ds = src_group[sub]\n",
    "                darray = da.from_zarr(src_ds)\n",
    "                darray_single = darray.rechunk(darray.shape)\n",
    "                dst_ds_path = dst_group_path / sub\n",
    "                os.makedirs(dst_ds_path, exist_ok=True)\n",
    "                darray_single.to_zarr(str(dst_ds_path), mode='w', overwrite=True)\n",
    "            else:\n",
    "                print(f\"    Subgroup {sub} not found in group {group_name}\")\n"
   ]
  },
  {
   "cell_type": "code",
   "execution_count": 9,
   "metadata": {},
   "outputs": [
    {
     "data": {
      "application/vnd.jupyter.widget-view+json": {
       "model_id": "89cdaca3ccfd447d975929feae032fdc",
       "version_major": 2,
       "version_minor": 0
      },
      "text/plain": [
       "Processing A1170525.zarr:   0%|          | 0/3456 [00:00<?, ?it/s]"
      ]
     },
     "metadata": {},
     "output_type": "display_data"
    },
    {
     "data": {
      "application/vnd.jupyter.widget-view+json": {
       "model_id": "2952be11be4f4581bde48dc5fcf77050",
       "version_major": 2,
       "version_minor": 0
      },
      "text/plain": [
       "Processing A1170540.zarr:   0%|          | 0/3456 [00:00<?, ?it/s]"
      ]
     },
     "metadata": {},
     "output_type": "display_data"
    },
    {
     "data": {
      "application/vnd.jupyter.widget-view+json": {
       "model_id": "9c0c5c56c7b54dd898436abc2b4af9da",
       "version_major": 2,
       "version_minor": 0
      },
      "text/plain": [
       "Processing A1170494.zarr:   0%|          | 0/3456 [00:00<?, ?it/s]"
      ]
     },
     "metadata": {},
     "output_type": "display_data"
    }
   ],
   "source": [
    "# Create a context manager to use tqdm with joblib\n",
    "@contextmanager\n",
    "def tqdm_joblib(tqdm_object):\n",
    "    \"\"\"Context manager to patch joblib to report into tqdm progress bar\"\"\"\n",
    "    class TqdmBatchCompletionCallback(joblib.parallel.BatchCompletionCallBack):\n",
    "        def __call__(self, *args, **kwargs):\n",
    "            tqdm_object.update(n=self.batch_size)\n",
    "            return super().__call__(*args, **kwargs)\n",
    "\n",
    "    old_batch_callback = joblib.parallel.BatchCompletionCallBack\n",
    "    joblib.parallel.BatchCompletionCallBack = TqdmBatchCompletionCallback\n",
    "    try:\n",
    "        yield tqdm_object\n",
    "    finally:\n",
    "        joblib.parallel.BatchCompletionCallBack = old_batch_callback\n",
    "\n",
    "def process_group(store_path, new_store_path, group_name, subgroups):\n",
    "    \"\"\"\n",
    "    Process a single group from the Zarr store.\n",
    "    \"\"\"\n",
    "    src = zarr.open(store_path, mode='r')\n",
    "    src_group = src[group_name]\n",
    "    dst_group_path = new_store_path / group_name\n",
    "    \n",
    "    for sub in subgroups:\n",
    "        if sub in src_group:\n",
    "            src_ds = src_group[sub]\n",
    "            darray = da.from_zarr(src_ds)\n",
    "            # Rechunk so that the entire array is one chunk\n",
    "            darray_single = darray.rechunk(darray.shape)\n",
    "            dst_ds_path = dst_group_path / sub\n",
    "            os.makedirs(dst_ds_path, exist_ok=True)\n",
    "            darray_single.to_zarr(str(dst_ds_path), mode='w', overwrite=True)\n",
    "\n",
    "\n",
    "subgroups = ['label_image', 'single_cell_data', 'single_cell_index']\n",
    "\n",
    "n_jobs = os.cpu_count()\n",
    "\n",
    "for store_path in stores:\n",
    "    # Create the new store path\n",
    "    new_store_path = Path(str(store_path).replace('/broad/', '/broad_aggregated/'))\n",
    "    \n",
    "    # Create the destination directory\n",
    "    os.makedirs(new_store_path, exist_ok=True)\n",
    "    \n",
    "    src = zarr.open(store_path, mode='r')\n",
    "    groups = list(src.group_keys())\n",
    "    \n",
    "    tasks = [\n",
    "        joblib.delayed(process_group)(store_path, new_store_path, group_name, subgroups)\n",
    "        for group_name in groups\n",
    "    ]\n",
    "    \n",
    "    with tqdm(total=len(tasks), desc=f\"Processing {store_path.name}\") as pbar:\n",
    "        with tqdm_joblib(pbar):\n",
    "            joblib.Parallel(n_jobs=n_jobs, verbose=0)(tasks)\n"
   ]
  },
  {
   "cell_type": "markdown",
   "metadata": {},
   "source": [
    "## Compare"
   ]
  },
  {
   "cell_type": "code",
   "execution_count": 19,
   "metadata": {},
   "outputs": [
    {
     "data": {
      "text/plain": [
       "PosixPath('/ictstr01/groups/ml01/projects/2023_ttreis_segment_JUMP/snakemake/final_source08/snakemake/results/aggregated/broad/cellpainting-gallery/cpg0016-jump/source_8/workspace/segmentation/cellpose/objects/J3/A1170494/A1170494.zarr')"
      ]
     },
     "execution_count": 19,
     "metadata": {},
     "output_type": "execute_result"
    }
   ],
   "source": [
    "old_plate = cluster_dir / Path(f\"final_{source}{source_num}/snakemake/results/aggregated/broad/cellpainting-gallery/cpg0016-jump/source_8/workspace/segmentation/cellpose/objects/J3/A1170494/A1170494.zarr\")\n",
    "old_plate"
   ]
  },
  {
   "cell_type": "code",
   "execution_count": 20,
   "metadata": {},
   "outputs": [
    {
     "name": "stderr",
     "output_type": "stream",
     "text": [
      "1886.70s - pydevd: Sending message related to process being replaced timed-out after 5 seconds\n"
     ]
    },
    {
     "name": "stdout",
     "output_type": "stream",
     "text": [
      "240847\n"
     ]
    }
   ],
   "source": [
    "!find /ictstr01/groups/ml01/projects/2023_ttreis_segment_JUMP/snakemake/final_source08/snakemake/results/aggregated/broad/cellpainting-gallery/cpg0016-jump/source_8/workspace/segmentation/cellpose/objects/J3/A1170494/A1170494.zarr -type f | wc -l"
   ]
  },
  {
   "cell_type": "code",
   "execution_count": 23,
   "metadata": {},
   "outputs": [
    {
     "data": {
      "text/plain": [
       "PosixPath('/ictstr01/groups/ml01/projects/2023_ttreis_segment_JUMP/snakemake/final_source08/snakemake/results/aggregated/broad_aggregated/cellpainting-gallery/cpg0016-jump/source_8/workspace/segmentation/cellpose/objects/J3/A1170494/A1170494.zarr')"
      ]
     },
     "execution_count": 23,
     "metadata": {},
     "output_type": "execute_result"
    }
   ],
   "source": [
    "new_plate = cluster_dir / Path(f\"final_{source}{source_num}/snakemake/results/aggregated/broad_aggregated/cellpainting-gallery/cpg0016-jump/source_8/workspace/segmentation/cellpose/objects/J3/A1170494/A1170494.zarr\")\n",
    "new_plate"
   ]
  },
  {
   "cell_type": "code",
   "execution_count": 24,
   "metadata": {},
   "outputs": [
    {
     "name": "stderr",
     "output_type": "stream",
     "text": [
      "1941.29s - pydevd: Sending message related to process being replaced timed-out after 5 seconds\n"
     ]
    },
    {
     "name": "stdout",
     "output_type": "stream",
     "text": [
      "20562\n"
     ]
    }
   ],
   "source": [
    "!find /ictstr01/groups/ml01/projects/2023_ttreis_segment_JUMP/snakemake/final_source08/snakemake/results/aggregated/broad_aggregated/cellpainting-gallery/cpg0016-jump/source_8/workspace/segmentation/cellpose/objects/J3/A1170494/A1170494.zarr -type f | wc -l"
   ]
  }
 ],
 "metadata": {
  "kernelspec": {
   "display_name": "Python 3",
   "language": "python",
   "name": "python3"
  },
  "language_info": {
   "codemirror_mode": {
    "name": "ipython",
    "version": 3
   },
   "file_extension": ".py",
   "mimetype": "text/x-python",
   "name": "python",
   "nbconvert_exporter": "python",
   "pygments_lexer": "ipython3",
   "version": "3.11.9"
  }
 },
 "nbformat": 4,
 "nbformat_minor": 2
}
