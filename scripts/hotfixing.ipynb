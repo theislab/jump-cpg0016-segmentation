{
 "cells": [
  {
   "cell_type": "code",
   "execution_count": 6,
   "metadata": {},
   "outputs": [],
   "source": [
    "import os\n",
    "\n",
    "directory_to_scan = \"/home/icb/tim.treis/projects/jump-cpg0016-segmentation/scripts/source08\"\n",
    "string_to_find = \"Successfully uploaded\""
   ]
  },
  {
   "cell_type": "markdown",
   "metadata": {},
   "source": [
    "## Find jobs that did not complete"
   ]
  },
  {
   "cell_type": "code",
   "execution_count": 10,
   "metadata": {},
   "outputs": [
    {
     "name": "stdout",
     "output_type": "stream",
     "text": [
      "source_8__J2__A1170445.txt\n",
      "source_8__J4__A1166159.txt\n",
      "source_8__J1__A1170384.txt\n",
      "source_8__J1__A1170383.txt\n",
      "source_8__J1__A1170385.txt\n",
      "source_8__J2__A1170444.txt\n"
     ]
    }
   ],
   "source": [
    "def find_missing_string_files(directory_path, search_string):\n",
    "    \"\"\"\n",
    "    Scans a directory for text files and prints those that do not contain the given search string.\n",
    "    \n",
    "    :param directory_path: Path of the directory to scan\n",
    "    :param search_string: String to look for in the text files\n",
    "    \"\"\"\n",
    "    # Ensure the provided path is valid\n",
    "    if not os.path.isdir(directory_path):\n",
    "        print(f\"The directory '{directory_path}' does not exist.\")\n",
    "        return\n",
    "\n",
    "    # Walk through all files in the directory\n",
    "    for filename in os.listdir(directory_path):\n",
    "        # Only check .txt files\n",
    "        if filename.endswith(\".txt\"):\n",
    "            file_path = os.path.join(directory_path, filename)\n",
    "            try:\n",
    "                with open(file_path, \"r\", encoding=\"utf-8\") as file:\n",
    "                    content = file.read()\n",
    "                    # If the search string is not found, print the filename\n",
    "                    if search_string not in content:\n",
    "                        print(filename)\n",
    "            except Exception as e:\n",
    "                print(f\"Error reading file '{filename}': {e}\")\n",
    "\n",
    "find_missing_string_files(directory_to_scan, string_to_find)\n"
   ]
  },
  {
   "cell_type": "markdown",
   "metadata": {},
   "source": [
    "## Fix plate job IDS"
   ]
  },
  {
   "cell_type": "code",
   "execution_count": 9,
   "metadata": {},
   "outputs": [],
   "source": [
    "def replace_error_with_done(directory_path, trigger_string):\n",
    "    \"\"\"\n",
    "    Scans a directory for .txt files. If a file contains the trigger string,\n",
    "    replace the word 'error' with 'done' in the first line, then rewrite the file.\n",
    "    \n",
    "    :param directory_path: The path to the directory containing .txt files.\n",
    "    :param trigger_string: The string that triggers the replacement of 'error' with 'done'.\n",
    "    \"\"\"\n",
    "    if not os.path.isdir(directory_path):\n",
    "        print(f\"Error: '{directory_path}' is not a valid directory.\")\n",
    "        return\n",
    "\n",
    "    # Iterate through all files in the specified directory\n",
    "    for filename in os.listdir(directory_path):\n",
    "        if filename.endswith(\".txt\"):\n",
    "            file_path = os.path.join(directory_path, filename)\n",
    "\n",
    "            try:\n",
    "                with open(file_path, \"r\", encoding=\"utf-8\") as f:\n",
    "                    lines = f.readlines()\n",
    "                \n",
    "                # Check if the trigger string is present anywhere in the file\n",
    "                if trigger_string in \"\".join(lines):\n",
    "                    # If the first line contains 'error', replace it with 'done'\n",
    "                    if lines and \"error\" in lines[0]:\n",
    "                        lines[0] = lines[0].replace(\"error\", \"done\", 1)\n",
    "\n",
    "                    # Rewrite the file with updated lines\n",
    "                    with open(file_path, \"w\", encoding=\"utf-8\") as f:\n",
    "                        f.writelines(lines)\n",
    "\n",
    "            except Exception as e:\n",
    "                print(f\"Failed to process '{filename}': {e}\")\n",
    "\n",
    "replace_error_with_done(directory_to_scan, string_to_find)"
   ]
  },
  {
   "cell_type": "code",
   "execution_count": 8,
   "metadata": {},
   "outputs": [],
   "source": [
    "def replace_ongoing_with_todo(directory_path, trigger_string):\n",
    "    \"\"\"\n",
    "    Scans a directory for .txt files. If a file contains the trigger string,\n",
    "    replace the word 'ongoing' with 'todo' in the first line, then rewrite the file.\n",
    "    \n",
    "    :param directory_path: The path to the directory containing .txt files.\n",
    "    :param trigger_string: The string that triggers the replacement of 'ongoing' with 'todo'.\n",
    "    \"\"\"\n",
    "    if not os.path.isdir(directory_path):\n",
    "        print(f\"Error: '{directory_path}' is not a valid directory.\")\n",
    "        return\n",
    "\n",
    "    # Iterate through all files in the specified directory\n",
    "    for filename in os.listdir(directory_path):\n",
    "        if filename.endswith(\".txt\"):\n",
    "            file_path = os.path.join(directory_path, filename)\n",
    "\n",
    "            try:\n",
    "                with open(file_path, \"r\", encoding=\"utf-8\") as f:\n",
    "                    lines = f.readlines()\n",
    "                \n",
    "                # Check if the trigger string is present anywhere in the file\n",
    "                if trigger_string in \"\".join(lines):\n",
    "                    # If the first line contains 'error', replace it with 'done'\n",
    "                    if lines and \"error\" in lines[0]:\n",
    "                        lines[0] = lines[0].replace(\"ongoing\", \"todo\", 1)\n",
    "\n",
    "                    # Rewrite the file with updated lines\n",
    "                    with open(file_path, \"w\", encoding=\"utf-8\") as f:\n",
    "                        f.writelines(lines)\n",
    "\n",
    "            except Exception as e:\n",
    "                print(f\"Failed to process '{filename}': {e}\")\n",
    "\n",
    "replace_ongoing_with_todo(directory_to_scan, string_to_find)"
   ]
  }
 ],
 "metadata": {
  "kernelspec": {
   "display_name": "Python 3",
   "language": "python",
   "name": "python3"
  },
  "language_info": {
   "codemirror_mode": {
    "name": "ipython",
    "version": 3
   },
   "file_extension": ".py",
   "mimetype": "text/x-python",
   "name": "python",
   "nbconvert_exporter": "python",
   "pygments_lexer": "ipython3",
   "version": "3.12.7"
  }
 },
 "nbformat": 4,
 "nbformat_minor": 2
}
